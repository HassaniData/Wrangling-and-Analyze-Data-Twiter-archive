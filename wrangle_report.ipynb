{
 "cells": [
  {
   "cell_type": "markdown",
   "metadata": {},
   "source": [
    "## Reporting: wragle_report\n",
    "* Create a **300-600 word written report** called \"wrangle_report.pdf\" or \"wrangle_report.html\" that briefly describes your wrangling efforts. This is to be framed as an internal document."
   ]
  },
  {
   "cell_type": "markdown",
   "metadata": {},
   "source": [
    "# Project: Wrangling and Analyze Data\n",
    "\n",
    "All project code is contained in a Jupyter Notebook named wrangle_act.ipynb and runs without errors."
   ]
  },
  {
   "cell_type": "markdown",
   "metadata": {},
   "source": [
    "## Data Gathering\n",
    "Data is successfully gathered: \n",
    "\n",
    "• From the three (3) different sources.\n",
    "\n",
    "  a. The “WeRateDogs” Twitter archive.\n",
    "    The file has been downloaded manually. “twitter_archive_enhanced.csv”\n",
    "    \n",
    "  b. The Tweet Image Predictions. This file (image_predictions.tsv) is hosted        on Udacity's servers and was downloaded programmatically using the Requests library and the following URL: https://d17h27t6h515a5.cloudfront.net/topher/2017/August/599fd2ad_image-predictions/image-predictions.tsv.\n",
    " \n",
    " c. tweet_json.txt: file constructed via API.\n",
    " \n",
    "•\tIn the three (3) different file formats\n",
    "\n",
    "Each piece of data is imported into a separate pandas DataFrame at first.(csv,tsv,json (txt))"
   ]
  },
  {
   "cell_type": "markdown",
   "metadata": {},
   "source": [
    "## Assessing Data\n",
    "Two types of assessment are used:\n",
    "\n",
    "•\tVisual assessment: each piece of gathered data is displayed in the Jupyter Notebook for visual assessment purposes. \n",
    "\n",
    "•\tProgrammatic assessment: pandas' functions and methods are used to assess the data.\n",
    "\n",
    "At least eight (8) data quality issues and two (2) tidiness issues are detected, and include the issues to clean to satisfy the Project Motivation. Each issue is documented in one to a few sentences each."
   ]
  },
  {
   "cell_type": "markdown",
   "metadata": {},
   "source": [
    "### Quality issues\n",
    "1. Incorrect data type: timestamp have the wrong data type.\n",
    "2. Incorrect name \"timestamp\": does not reflect a comprehensive variable.\n",
    "3. Replies rows should be removed\n",
    "4. Retweet rows should be removed\n",
    "5. Replies and retweet columns should be removed.\n",
    "6. Some rating_denominator values are less than 10 (Almost always greater than 10. 11/10, 12/10, 13/10, etc. Why? Because \"they're good dogs Brent.\").\n",
    "7. Ratings: the most appropriate data type for the rating_numerator column should be float1. \n",
    "8. the variables 'P1, P2, P3,'P1_conf, P2_conf, P3_conf,'P1_dog, P2_dog, P3_dog' columns are grouped into Breed and Confidence columns.\n",
    "9. Droping the 'P1, P2, P3,'P1_conf, P2_conf, P3_conf,'P1_dog, P2_dog, P3_dog' columns after creating Breed and Confidence columns.\n",
    "12. Original ratings (no retweets) that dont have images should be removed.\n",
    "13. ID field tweet_id should be object type, not integers or floats because they are not numeric and aren't intended to perform calculations. "
   ]
  },
  {
   "cell_type": "markdown",
   "metadata": {},
   "source": [
    "### Tidiness issues\n",
    "1. (10) the variables doggo, floofer, pupper and puppo are grouped in one single variable. \n",
    "2. (11) create a single dataframe from the three gathered data."
   ]
  },
  {
   "cell_type": "markdown",
   "metadata": {},
   "source": [
    "## Cleaning Data\n",
    "The define, code, and test steps of the cleaning process are clearly documented.\n",
    "\n",
    "•\tCopies of the original pieces of data are made prior to cleaning.\n",
    "\n",
    "•\tAll issues identified in the assess phase are successfully cleaned using Python and pandas, and include the cleaning tasks required to satisfy the Project Motivation.\n",
    "\n",
    "•\tA tidy master dataset, with all pieces of gathered data is created twitter_archive_master.csv."
   ]
  },
  {
   "cell_type": "markdown",
   "metadata": {},
   "source": [
    "## Storing and Acting on Wrangled Data\n",
    "Gathered, assessed, and cleaned master dataset(s) is saved to a CSV file twitter_archive_master.csv.\n",
    "\n",
    "The master dataset is analyzed using pandas in the Jupyter Notebook and at least three (3) different insights are produced.\n",
    "\n",
    "At least one (1) labeled visualization is produced in the Jupyter Notebook using Python’s plotting libraries.\n",
    "\n",
    "In this wrangling work I have assessed and cleaned the data upon which the analyses and visualizations are based."
   ]
  },
  {
   "cell_type": "markdown",
   "metadata": {},
   "source": [
    "\n",
    "## Visualization and insights\n",
    "Lastly, the analysis of the data gathered from Twitter reveals several conclusions and interesting informations from the most popular dog stage, with the least popular.one, to the most used Dog name, and the ten least used Dog names and many more informations that can be collected which appear to be useful for dog breeders, pet stores, and anyone interested in dogs."
   ]
  },
  {
   "cell_type": "code",
   "execution_count": null,
   "metadata": {},
   "outputs": [],
   "source": []
  }
 ],
 "metadata": {
  "kernelspec": {
   "display_name": "Python 3",
   "language": "python",
   "name": "python3"
  },
  "language_info": {
   "codemirror_mode": {
    "name": "ipython",
    "version": 3
   },
   "file_extension": ".py",
   "mimetype": "text/x-python",
   "name": "python",
   "nbconvert_exporter": "python",
   "pygments_lexer": "ipython3",
   "version": "3.6.3"
  }
 },
 "nbformat": 4,
 "nbformat_minor": 2
}
